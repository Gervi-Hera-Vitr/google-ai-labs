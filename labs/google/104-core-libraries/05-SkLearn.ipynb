{
 "cells": [
  {
   "cell_type": "code",
   "id": "initial_id",
   "metadata": {
    "collapsed": true,
    "ExecuteTime": {
     "end_time": "2025-02-04T14:24:41.554373Z",
     "start_time": "2025-02-04T14:24:41.551110Z"
    }
   },
   "source": [
    "# importing the Library\n",
    "import sklearn\n",
    "print(sklearn.__version__)\n"
   ],
   "outputs": [
    {
     "name": "stdout",
     "output_type": "stream",
     "text": [
      "1.6.1\n"
     ]
    }
   ],
   "execution_count": 15
  },
  {
   "metadata": {
    "ExecuteTime": {
     "end_time": "2025-02-04T14:24:41.588400Z",
     "start_time": "2025-02-04T14:24:41.578525Z"
    }
   },
   "cell_type": "code",
   "source": [
    "# Loading in a premade model\n",
    "from sklearn.linear_model import LinearRegression\n",
    "X_train = [[1,1], [2,2]]\n",
    "y_train = [[1,1], [2,2]]\n",
    "X_test = [[1,1], [2,2]]\n",
    "y_test = [[1,1], [2,2]]\n",
    "model = LinearRegression()\n",
    "model.fit(X_train, y_train)\n",
    "y_pred = model.predict(X_test)\n",
    "print(model.score(X_test, y_test))\n"
   ],
   "id": "63b3365ead341001",
   "outputs": [
    {
     "name": "stdout",
     "output_type": "stream",
     "text": [
      "1.0\n"
     ]
    }
   ],
   "execution_count": 16
  },
  {
   "metadata": {
    "ExecuteTime": {
     "end_time": "2025-02-04T14:24:41.624910Z",
     "start_time": "2025-02-04T14:24:41.617387Z"
    }
   },
   "cell_type": "code",
   "source": [
    "#load in a dataset\n",
    "from sklearn.datasets import load_iris\n",
    "\n",
    "iris = load_iris()\n",
    "X, y = iris.data, iris.target  # Features and labels\n",
    "print(\"Feature shape:\", X.shape)  # (150, 4)\n"
   ],
   "id": "f9984b1a441f7422",
   "outputs": [
    {
     "name": "stdout",
     "output_type": "stream",
     "text": [
      "Feature shape: (150, 4)\n"
     ]
    }
   ],
   "execution_count": 17
  },
  {
   "metadata": {
    "ExecuteTime": {
     "end_time": "2025-02-04T14:24:41.682675Z",
     "start_time": "2025-02-04T14:24:41.674453Z"
    }
   },
   "cell_type": "code",
   "source": [
    "# convert into pandas dataframe\n",
    "import pandas as pd\n",
    "\n",
    "df = pd.DataFrame(X, columns=iris.feature_names)\n",
    "df['target'] = y\n",
    "print(df.head())\n"
   ],
   "id": "a29c27989f8f2",
   "outputs": [
    {
     "name": "stdout",
     "output_type": "stream",
     "text": [
      "   sepal length (cm)  sepal width (cm)  petal length (cm)  petal width (cm)  \\\n",
      "0                5.1               3.5                1.4               0.2   \n",
      "1                4.9               3.0                1.4               0.2   \n",
      "2                4.7               3.2                1.3               0.2   \n",
      "3                4.6               3.1                1.5               0.2   \n",
      "4                5.0               3.6                1.4               0.2   \n",
      "\n",
      "   target  \n",
      "0       0  \n",
      "1       0  \n",
      "2       0  \n",
      "3       0  \n",
      "4       0  \n"
     ]
    }
   ],
   "execution_count": 18
  },
  {
   "metadata": {
    "ExecuteTime": {
     "end_time": "2025-02-04T14:24:41.699296Z",
     "start_time": "2025-02-04T14:24:41.691667Z"
    }
   },
   "cell_type": "code",
   "source": [
    "# handling missing data:\n",
    "from sklearn.impute import SimpleImputer\n",
    "\n",
    "imputer = SimpleImputer(strategy='mean')  # Replace missing values with mean\n",
    "X_imputed = imputer.fit_transform(X)\n",
    "print(X_imputed.shape)\n"
   ],
   "id": "456411fb3978f48e",
   "outputs": [
    {
     "name": "stdout",
     "output_type": "stream",
     "text": [
      "(150, 4)\n"
     ]
    }
   ],
   "execution_count": 19
  },
  {
   "metadata": {
    "ExecuteTime": {
     "end_time": "2025-02-04T14:24:41.731478Z",
     "start_time": "2025-02-04T14:24:41.725443Z"
    }
   },
   "cell_type": "code",
   "source": [
    "# encoding categorical data\n",
    "from sklearn.preprocessing import LabelEncoder\n",
    "\n",
    "encoder = LabelEncoder()\n",
    "y_encoded = encoder.fit_transform(y)\n",
    "print(y_encoded.shape)"
   ],
   "id": "94e4c7e5278f4238",
   "outputs": [
    {
     "name": "stdout",
     "output_type": "stream",
     "text": [
      "(150,)\n"
     ]
    }
   ],
   "execution_count": 20
  },
  {
   "metadata": {
    "ExecuteTime": {
     "end_time": "2025-02-04T14:24:41.768953Z",
     "start_time": "2025-02-04T14:24:41.760648Z"
    }
   },
   "cell_type": "code",
   "source": [
    "# one hot encoding:\n",
    "from sklearn.preprocessing import OneHotEncoder\n",
    "\n",
    "encoder = OneHotEncoder()\n",
    "X_encoded = encoder.fit_transform(X).toarray()\n"
   ],
   "id": "c88358408a5ada37",
   "outputs": [],
   "execution_count": 21
  },
  {
   "metadata": {
    "ExecuteTime": {
     "end_time": "2025-02-04T14:24:41.793477Z",
     "start_time": "2025-02-04T14:24:41.788788Z"
    }
   },
   "cell_type": "code",
   "source": [
    "#spliting data and training in sets\n",
    "from sklearn.model_selection import train_test_split\n",
    "\n",
    "X_train, X_test, y_train, y_test = train_test_split(X, y, test_size=0.2, random_state=42)\n"
   ],
   "id": "f0b09cd8f0794ba1",
   "outputs": [],
   "execution_count": 22
  },
  {
   "metadata": {
    "ExecuteTime": {
     "end_time": "2025-02-04T14:27:02.457731Z",
     "start_time": "2025-02-04T14:27:02.446554Z"
    }
   },
   "cell_type": "code",
   "source": [
    "#evalutating regression models\n",
    "\n",
    "model = LinearRegression()\n",
    "model.fit(X_train, y_train)\n",
    "print(model.score(X_test, y_test))\n",
    "\n",
    "from sklearn.metrics import mean_squared_error, r2_score\n",
    "\n",
    "mse = mean_squared_error(y_test, y_pred)\n",
    "r2 = r2_score(y_test, y_pred)\n",
    "print(\"MSE:\", mse)\n",
    "print(\"R² Score:\", r2)\n"
   ],
   "id": "5fbd39875ddad2ae",
   "outputs": [
    {
     "name": "stdout",
     "output_type": "stream",
     "text": [
      "1.0\n",
      "MSE: 0.0\n",
      "R² Score: 1.0\n"
     ]
    }
   ],
   "execution_count": 25
  },
  {
   "metadata": {
    "ExecuteTime": {
     "end_time": "2025-02-04T14:27:56.611423Z",
     "start_time": "2025-02-04T14:27:56.595649Z"
    }
   },
   "cell_type": "code",
   "source": [
    "# Polynomial Regression\n",
    "from sklearn.preprocessing import PolynomialFeatures\n",
    "\n",
    "poly = PolynomialFeatures(degree=2)\n",
    "X_poly = poly.fit_transform(X)\n",
    "model.fit(X_poly, y)\n",
    "print(model.score(X_poly, y))"
   ],
   "id": "f9c3828d764c6df1",
   "outputs": [
    {
     "name": "stdout",
     "output_type": "stream",
     "text": [
      "0.9508314685950177\n"
     ]
    }
   ],
   "execution_count": 27
  },
  {
   "metadata": {},
   "cell_type": "code",
   "outputs": [],
   "execution_count": null,
   "source": "",
   "id": "4852b02a7c0efcc1"
  }
 ],
 "metadata": {
  "kernelspec": {
   "display_name": "Python 3",
   "language": "python",
   "name": "python3"
  },
  "language_info": {
   "codemirror_mode": {
    "name": "ipython",
    "version": 2
   },
   "file_extension": ".py",
   "mimetype": "text/x-python",
   "name": "python",
   "nbconvert_exporter": "python",
   "pygments_lexer": "ipython2",
   "version": "2.7.6"
  }
 },
 "nbformat": 4,
 "nbformat_minor": 5
}
