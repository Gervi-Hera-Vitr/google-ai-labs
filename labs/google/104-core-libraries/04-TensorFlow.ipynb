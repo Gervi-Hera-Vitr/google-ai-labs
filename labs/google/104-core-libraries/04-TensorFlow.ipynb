{
 "cells": [
  {
   "metadata": {},
   "cell_type": "raw",
   "source": [
    "\n",
    "    ## Captains Tensorflow and Keras Journey\n",
    "\n",
    "TensorFlow Learning:https://www.tensorflow.org/\n",
    "\n",
    "TensorFlow Glossary:https://developers.google.com/machine-learning/glossary#tensorflow\n",
    "\n",
    "Keras Learning: https://keras.io/\n",
    "\n",
    "Keras Glossary:https://developers.google.com/machine-learning/glossary#keras\n",
    "\n",
    "Now here is my understanding of TensorFlow And Keras:"
   ],
   "id": "e58a21f97de54af9"
  },
  {
   "metadata": {
    "collapsed": true,
    "ExecuteTime": {
     "end_time": "2025-01-01T21:04:18.618205Z",
     "start_time": "2025-01-01T21:04:18.458326Z"
    }
   },
   "cell_type": "code",
   "source": [
    "import tensorflow as tf\n",
    "from tensorflow.python.keras import Sequential\n",
    "from tensorflow.python.keras.layers import Dense\n",
    "\n",
    "\n"
   ],
   "id": "initial_id",
   "outputs": [
    {
     "ename": "ImportError",
     "evalue": "dlopen(/Users/anton/miniforge3/envs/ml/lib/python3.12/site-packages/tensorflow/python/platform/_pywrap_cpu_feature_guard.so, 0x0002): Symbol not found: __ZN4absl12lts_2024072212log_internal10LogMessagelsIbLi0EEERS2_RKT_\n  Referenced from: <0334E7A4-ECCB-3FBA-BC41-C55ED08D7613> /Users/anton/miniforge3/envs/ml/lib/python3.12/site-packages/tensorflow/libtensorflow_framework.2.dylib\n  Expected in:     <E99B267F-7144-31DD-A5D4-F5B0B82894DA> /Users/anton/miniforge3/envs/ml/lib/libabsl_log_internal_message.2407.0.0.dylib",
     "output_type": "error",
     "traceback": [
      "\u001B[0;31m---------------------------------------------------------------------------\u001B[0m",
      "\u001B[0;31mImportError\u001B[0m                               Traceback (most recent call last)",
      "Cell \u001B[0;32mIn[3], line 1\u001B[0m\n\u001B[0;32m----> 1\u001B[0m \u001B[38;5;28;01mimport\u001B[39;00m \u001B[38;5;21;01mtensorflow\u001B[39;00m \u001B[38;5;28;01mas\u001B[39;00m \u001B[38;5;21;01mtf\u001B[39;00m\n\u001B[1;32m      2\u001B[0m \u001B[38;5;28;01mfrom\u001B[39;00m \u001B[38;5;21;01mtensorflow\u001B[39;00m\u001B[38;5;21;01m.\u001B[39;00m\u001B[38;5;21;01mpython\u001B[39;00m\u001B[38;5;21;01m.\u001B[39;00m\u001B[38;5;21;01mkeras\u001B[39;00m \u001B[38;5;28;01mimport\u001B[39;00m Sequential\n\u001B[1;32m      3\u001B[0m \u001B[38;5;28;01mfrom\u001B[39;00m \u001B[38;5;21;01mtensorflow\u001B[39;00m\u001B[38;5;21;01m.\u001B[39;00m\u001B[38;5;21;01mpython\u001B[39;00m\u001B[38;5;21;01m.\u001B[39;00m\u001B[38;5;21;01mkeras\u001B[39;00m\u001B[38;5;21;01m.\u001B[39;00m\u001B[38;5;21;01mlayers\u001B[39;00m \u001B[38;5;28;01mimport\u001B[39;00m Dense\n",
      "File \u001B[0;32m~/miniforge3/envs/ml/lib/python3.12/site-packages/tensorflow/__init__.py:38\u001B[0m\n\u001B[1;32m     35\u001B[0m \u001B[38;5;28;01mimport\u001B[39;00m \u001B[38;5;21;01msys\u001B[39;00m \u001B[38;5;28;01mas\u001B[39;00m \u001B[38;5;21;01m_sys\u001B[39;00m\n\u001B[1;32m     37\u001B[0m \u001B[38;5;66;03m# Do not remove this line; See https://github.com/tensorflow/tensorflow/issues/42596\u001B[39;00m\n\u001B[0;32m---> 38\u001B[0m \u001B[38;5;28;01mfrom\u001B[39;00m \u001B[38;5;21;01mtensorflow\u001B[39;00m\u001B[38;5;21;01m.\u001B[39;00m\u001B[38;5;21;01mpython\u001B[39;00m \u001B[38;5;28;01mimport\u001B[39;00m pywrap_tensorflow \u001B[38;5;28;01mas\u001B[39;00m _pywrap_tensorflow  \u001B[38;5;66;03m# pylint: disable=unused-import\u001B[39;00m\n\u001B[1;32m     39\u001B[0m \u001B[38;5;28;01mfrom\u001B[39;00m \u001B[38;5;21;01mtensorflow\u001B[39;00m\u001B[38;5;21;01m.\u001B[39;00m\u001B[38;5;21;01mpython\u001B[39;00m\u001B[38;5;21;01m.\u001B[39;00m\u001B[38;5;21;01mtools\u001B[39;00m \u001B[38;5;28;01mimport\u001B[39;00m module_util \u001B[38;5;28;01mas\u001B[39;00m _module_util\n\u001B[1;32m     40\u001B[0m \u001B[38;5;28;01mfrom\u001B[39;00m \u001B[38;5;21;01mtensorflow\u001B[39;00m\u001B[38;5;21;01m.\u001B[39;00m\u001B[38;5;21;01mpython\u001B[39;00m\u001B[38;5;21;01m.\u001B[39;00m\u001B[38;5;21;01mutil\u001B[39;00m\u001B[38;5;21;01m.\u001B[39;00m\u001B[38;5;21;01mlazy_loader\u001B[39;00m \u001B[38;5;28;01mimport\u001B[39;00m KerasLazyLoader \u001B[38;5;28;01mas\u001B[39;00m _KerasLazyLoader\n",
      "File \u001B[0;32m~/miniforge3/envs/ml/lib/python3.12/site-packages/tensorflow/python/pywrap_tensorflow.py:34\u001B[0m\n\u001B[1;32m     29\u001B[0m \u001B[38;5;28;01mfrom\u001B[39;00m \u001B[38;5;21;01mtensorflow\u001B[39;00m\u001B[38;5;21;01m.\u001B[39;00m\u001B[38;5;21;01mpython\u001B[39;00m\u001B[38;5;21;01m.\u001B[39;00m\u001B[38;5;21;01mplatform\u001B[39;00m \u001B[38;5;28;01mimport\u001B[39;00m self_check\n\u001B[1;32m     31\u001B[0m \u001B[38;5;66;03m# TODO(mdan): Cleanup antipattern: import for side effects.\u001B[39;00m\n\u001B[1;32m     32\u001B[0m \n\u001B[1;32m     33\u001B[0m \u001B[38;5;66;03m# Perform pre-load sanity checks in order to produce a more actionable error.\u001B[39;00m\n\u001B[0;32m---> 34\u001B[0m \u001B[43mself_check\u001B[49m\u001B[38;5;241;43m.\u001B[39;49m\u001B[43mpreload_check\u001B[49m\u001B[43m(\u001B[49m\u001B[43m)\u001B[49m\n\u001B[1;32m     36\u001B[0m \u001B[38;5;66;03m# pylint: disable=wildcard-import,g-import-not-at-top,unused-import,line-too-long\u001B[39;00m\n\u001B[1;32m     38\u001B[0m \u001B[38;5;28;01mtry\u001B[39;00m:\n\u001B[1;32m     39\u001B[0m   \u001B[38;5;66;03m# This import is expected to fail if there is an explicit shared object\u001B[39;00m\n\u001B[1;32m     40\u001B[0m   \u001B[38;5;66;03m# dependency (with_framework_lib=true), since we do not need RTLD_GLOBAL.\u001B[39;00m\n",
      "File \u001B[0;32m~/miniforge3/envs/ml/lib/python3.12/site-packages/tensorflow/python/platform/self_check.py:63\u001B[0m, in \u001B[0;36mpreload_check\u001B[0;34m()\u001B[0m\n\u001B[1;32m     50\u001B[0m       \u001B[38;5;28;01mraise\u001B[39;00m \u001B[38;5;167;01mImportError\u001B[39;00m(\n\u001B[1;32m     51\u001B[0m           \u001B[38;5;124m\"\u001B[39m\u001B[38;5;124mCould not find the DLL(s) \u001B[39m\u001B[38;5;132;01m%r\u001B[39;00m\u001B[38;5;124m. TensorFlow requires that these DLLs \u001B[39m\u001B[38;5;124m\"\u001B[39m\n\u001B[1;32m     52\u001B[0m           \u001B[38;5;124m\"\u001B[39m\u001B[38;5;124mbe installed in a directory that is named in your \u001B[39m\u001B[38;5;132;01m%%\u001B[39;00m\u001B[38;5;124mPATH\u001B[39m\u001B[38;5;132;01m%%\u001B[39;00m\u001B[38;5;124m \u001B[39m\u001B[38;5;124m\"\u001B[39m\n\u001B[0;32m   (...)\u001B[0m\n\u001B[1;32m     56\u001B[0m           \u001B[38;5;124m\"\u001B[39m\u001B[38;5;124mhttps://support.microsoft.com/help/2977003/the-latest-supported-visual-c-downloads\u001B[39m\u001B[38;5;124m\"\u001B[39m\n\u001B[1;32m     57\u001B[0m           \u001B[38;5;241m%\u001B[39m \u001B[38;5;124m\"\u001B[39m\u001B[38;5;124m or \u001B[39m\u001B[38;5;124m\"\u001B[39m\u001B[38;5;241m.\u001B[39mjoin(missing))\n\u001B[1;32m     58\u001B[0m \u001B[38;5;28;01melse\u001B[39;00m:\n\u001B[1;32m     59\u001B[0m   \u001B[38;5;66;03m# Load a library that performs CPU feature guard checking.  Doing this here\u001B[39;00m\n\u001B[1;32m     60\u001B[0m   \u001B[38;5;66;03m# as a preload check makes it more likely that we detect any CPU feature\u001B[39;00m\n\u001B[1;32m     61\u001B[0m   \u001B[38;5;66;03m# incompatibilities before we trigger them (which would typically result in\u001B[39;00m\n\u001B[1;32m     62\u001B[0m   \u001B[38;5;66;03m# SIGILL).\u001B[39;00m\n\u001B[0;32m---> 63\u001B[0m   \u001B[38;5;28;01mfrom\u001B[39;00m \u001B[38;5;21;01mtensorflow\u001B[39;00m\u001B[38;5;21;01m.\u001B[39;00m\u001B[38;5;21;01mpython\u001B[39;00m\u001B[38;5;21;01m.\u001B[39;00m\u001B[38;5;21;01mplatform\u001B[39;00m \u001B[38;5;28;01mimport\u001B[39;00m _pywrap_cpu_feature_guard\n\u001B[1;32m     64\u001B[0m   _pywrap_cpu_feature_guard\u001B[38;5;241m.\u001B[39mInfoAboutUnusedCPUFeatures()\n",
      "\u001B[0;31mImportError\u001B[0m: dlopen(/Users/anton/miniforge3/envs/ml/lib/python3.12/site-packages/tensorflow/python/platform/_pywrap_cpu_feature_guard.so, 0x0002): Symbol not found: __ZN4absl12lts_2024072212log_internal10LogMessagelsIbLi0EEERS2_RKT_\n  Referenced from: <0334E7A4-ECCB-3FBA-BC41-C55ED08D7613> /Users/anton/miniforge3/envs/ml/lib/python3.12/site-packages/tensorflow/libtensorflow_framework.2.dylib\n  Expected in:     <E99B267F-7144-31DD-A5D4-F5B0B82894DA> /Users/anton/miniforge3/envs/ml/lib/libabsl_log_internal_message.2407.0.0.dylib"
     ]
    }
   ],
   "execution_count": 3
  },
  {
   "metadata": {},
   "cell_type": "code",
   "source": [
    "# Create a tensor which is an array\n",
    "tensor = tf.constant([[1, 2], [3, 4]])\n",
    "print(tensor)\n"
   ],
   "id": "e7b0be8cdf39e0c9",
   "outputs": [],
   "execution_count": null
  },
  {
   "metadata": {},
   "cell_type": "code",
   "source": [
    "# tensor math and manipulation\n",
    "a = tf.constant([[1, 2], [3, 4]])\n",
    "b = tf.constant([[5, 6], [7, 8]])\n",
    "\n",
    "\n",
    "c = tf.add(a, b)\n",
    "print(c)\n",
    "d = tf.multiply(a, b)\n",
    "print(d)\n",
    "e = tf.subtract(a, b)\n",
    "print(e)\n",
    "f = tf.divide(a, b)\n",
    "print(f)"
   ],
   "id": "a1c7744a571278ee",
   "outputs": [],
   "execution_count": null
  },
  {
   "metadata": {},
   "cell_type": "code",
   "source": [
    "# manipulating tensor attributes\n",
    "print(tensor.shape)  # Shape of the tensor\n",
    "print(tensor.dtype)  # Data type of the tensor\n",
    "\n"
   ],
   "id": "37e380e76990a5ad",
   "outputs": [],
   "execution_count": null
  },
  {
   "metadata": {},
   "cell_type": "code",
   "source": [
    "# using tensorflow functions\n",
    "zeros = tf.zeros([3, 3])  # 3x3 matrix of zeros\n",
    "ones = tf.ones([3, 3])    # 3x3 matrix of ones\n",
    "random = tf.random.normal([3, 3], mean=2, stddev=1)  # Random normal distribution\n",
    "print(random)\n"
   ],
   "id": "720f2f31ba4df6",
   "outputs": [],
   "execution_count": null
  },
  {
   "metadata": {},
   "cell_type": "code",
   "source": [
    "# converting numpy to tensorflow\n",
    "import numpy as np\n",
    "array = np.array([1, 2, 3])\n",
    "tensor = tf.convert_to_tensor(array)\n",
    "print(tensor)\n"
   ],
   "id": "b2970e84f385242b",
   "outputs": [],
   "execution_count": null
  },
  {
   "metadata": {},
   "cell_type": "code",
   "source": [
    "# tensorflow variables\n",
    "var = tf.Variable([1.0, 2.0, 3.0])\n",
    "print(var)\n",
    "var.assign([4.0, 5.0, 6.0])  # Assign new values\n",
    "print(var)\n"
   ],
   "id": "a1774227a6da84d4",
   "outputs": [],
   "execution_count": null
  },
  {
   "metadata": {},
   "cell_type": "code",
   "source": [
    "# Gradient Computation with Autograd using tf.GradientTape\n",
    "x = tf.Variable(3.0)\n",
    "\n",
    "with tf.GradientTape() as tape:\n",
    "    y = x ** 2\n",
    "\n",
    "# Compute the gradient of y with respect to x\n",
    "grad = tape.gradient(y, x)\n",
    "print(grad)\n"
   ],
   "id": "1438b19a6b66a15d",
   "outputs": [],
   "execution_count": null
  },
  {
   "metadata": {},
   "cell_type": "code",
   "source": [
    "# How to Define a Model\n",
    "# Build a simple model\n",
    "model = Sequential([\n",
    "    Dense(10, activation='relu', input_shape=(5,)),\n",
    "    Dense(1, activation='linear')\n",
    "])\n",
    "\n",
    "model.summary()\n"
   ],
   "id": "990e511f745c296a",
   "outputs": [],
   "execution_count": null
  },
  {
   "metadata": {},
   "cell_type": "code",
   "source": [
    "# Compile the model\n",
    "model.compile(optimizer='adam',\n",
    "              loss='mse',  # Mean squared error\n",
    "              metrics=['mae'])  # Mean absolute error\n"
   ],
   "id": "ad12db63622fe2ff",
   "outputs": [],
   "execution_count": null
  },
  {
   "metadata": {},
   "cell_type": "code",
   "source": [
    "# train the model\n",
    "import numpy as np\n",
    "\n",
    "# Generate dummy data\n",
    "x_train = np.random.rand(100, 5)  # 100 samples, 5 features each\n",
    "y_train = np.random.rand(100, 1)  # 100 labels\n",
    "\n",
    "# Train the model\n",
    "model.fit(x_train, y_train, epochs=10, batch_size=32)\n"
   ],
   "id": "7d788705830fd16f",
   "outputs": [],
   "execution_count": null
  },
  {
   "metadata": {},
   "cell_type": "code",
   "source": [
    "    # TensorFlow Datasets\n",
    "\n",
    "# Load a dataset\n",
    "# dataset, info = tfds.load('mnist', as_supervised=True, with_info=True)\n",
    "# print(info)\n"
   ],
   "id": "222bbf7e7a573780",
   "outputs": [],
   "execution_count": null
  },
  {
   "metadata": {},
   "cell_type": "code",
   "source": [
    "# def preprocess(image, label):\n",
    "#     image = tf.cast(image, tf.float32) / 255.0  # Normalize to [0, 1]\n",
    "#     return image, label\n",
    "#\n",
    "# dataset = dataset.map(preprocess).batch(32)\n"
   ],
   "id": "16c9acd3b2f49085",
   "outputs": [],
   "execution_count": null
  }
 ],
 "metadata": {
  "kernelspec": {
   "display_name": "Python 3",
   "language": "python",
   "name": "python3"
  },
  "language_info": {
   "codemirror_mode": {
    "name": "ipython",
    "version": 2
   },
   "file_extension": ".py",
   "mimetype": "text/x-python",
   "name": "python",
   "nbconvert_exporter": "python",
   "pygments_lexer": "ipython2",
   "version": "2.7.6"
  }
 },
 "nbformat": 4,
 "nbformat_minor": 5
}
