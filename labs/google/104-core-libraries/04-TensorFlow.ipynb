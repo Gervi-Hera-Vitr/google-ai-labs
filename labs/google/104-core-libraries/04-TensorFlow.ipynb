{
 "cells": [
  {
   "metadata": {},
   "cell_type": "raw",
   "source": [
    "\n",
    "    ## Captains Tensorflow and Keras Journey\n",
    "\n",
    "TensorFlow Learning:https://www.tensorflow.org/\n",
    "\n",
    "TensorFlow Glossary:https://developers.google.com/machine-learning/glossary#tensorflow\n",
    "\n",
    "Keras Learning: https://keras.io/\n",
    "\n",
    "Keras Glossary:https://developers.google.com/machine-learning/glossary#keras\n",
    "\n",
    "Now here is my understanding of TensorFlow And Keras:"
   ],
   "id": "e58a21f97de54af9"
  },
  {
   "metadata": {
    "collapsed": true,
    "ExecuteTime": {
     "end_time": "2025-01-26T20:06:13.282661Z",
     "start_time": "2025-01-26T20:06:13.278519Z"
    }
   },
   "cell_type": "code",
   "source": [
    "# Basics of TensorFlow and Keras:\n",
    "# setting up TensorFlow\n",
    "import numpy\n",
    "import tensorflow as tf\n",
    "from tensorflow.keras import layers, models\n",
    "print(tf.__version__)\n",
    "print(numpy.__version__)"
   ],
   "id": "initial_id",
   "outputs": [
    {
     "name": "stdout",
     "output_type": "stream",
     "text": [
      "2.13.1\n",
      "1.24.3\n"
     ]
    }
   ],
   "execution_count": 45
  },
  {
   "metadata": {
    "ExecuteTime": {
     "end_time": "2025-01-26T20:06:13.315378Z",
     "start_time": "2025-01-26T20:06:13.308418Z"
    }
   },
   "cell_type": "code",
   "source": [
    "# Create a tensor which is an array\n",
    "tensor = tf.constant([[1, 2], [3, 4]])\n",
    "print(tensor)\n",
    "# tensorflow Variables can be changed or updated unlike constants\n",
    "var = tf.Variable([1, 2, 3])\n",
    "print(\"Before update:\", var.numpy())\n",
    "\n",
    "# Update the variable\n",
    "var.assign([4, 5, 6])\n",
    "print(\"After update:\", var.numpy())\n"
   ],
   "id": "e7b0be8cdf39e0c9",
   "outputs": [
    {
     "name": "stdout",
     "output_type": "stream",
     "text": [
      "tf.Tensor(\n",
      "[[1 2]\n",
      " [3 4]], shape=(2, 2), dtype=int32)\n",
      "Before update: [1 2 3]\n",
      "After update: [4 5 6]\n"
     ]
    }
   ],
   "execution_count": 46
  },
  {
   "metadata": {
    "ExecuteTime": {
     "end_time": "2025-01-26T20:06:13.417763Z",
     "start_time": "2025-01-26T20:06:13.407779Z"
    }
   },
   "cell_type": "code",
   "source": [
    "# tensor math and manipulation\n",
    "a = tf.constant([[1, 2], [3, 4]])\n",
    "b = tf.constant([[5, 6], [7, 8]])\n",
    "\n",
    "\n",
    "c = tf.add(a, b)\n",
    "print(c)\n",
    "d = tf.multiply(a, b)\n",
    "print(d)\n",
    "e = tf.subtract(a, b)\n",
    "print(e)\n",
    "f = tf.divide(a, b)\n",
    "print(f)"
   ],
   "id": "a1c7744a571278ee",
   "outputs": [
    {
     "name": "stdout",
     "output_type": "stream",
     "text": [
      "tf.Tensor(\n",
      "[[ 6  8]\n",
      " [10 12]], shape=(2, 2), dtype=int32)\n",
      "tf.Tensor(\n",
      "[[ 5 12]\n",
      " [21 32]], shape=(2, 2), dtype=int32)\n",
      "tf.Tensor(\n",
      "[[-4 -4]\n",
      " [-4 -4]], shape=(2, 2), dtype=int32)\n",
      "tf.Tensor(\n",
      "[[0.2        0.33333333]\n",
      " [0.42857143 0.5       ]], shape=(2, 2), dtype=float64)\n"
     ]
    }
   ],
   "execution_count": 47
  },
  {
   "metadata": {
    "ExecuteTime": {
     "end_time": "2025-01-26T20:06:13.503988Z",
     "start_time": "2025-01-26T20:06:13.495326Z"
    }
   },
   "cell_type": "code",
   "source": [
    "# checking tensorflow properties\n",
    "tensor = tf.constant([[1, 2], [3, 4]])\n",
    "\n",
    "print(\"Shape:\", tensor.shape)       # (2, 2)\n",
    "print(\"Rank:\", tf.rank(tensor))     # 2\n",
    "print(\"Data Type:\", tensor.dtype)   # int32\n",
    "\n"
   ],
   "id": "37e380e76990a5ad",
   "outputs": [
    {
     "name": "stdout",
     "output_type": "stream",
     "text": [
      "Shape: (2, 2)\n",
      "Rank: tf.Tensor(2, shape=(), dtype=int32)\n",
      "Data Type: <dtype: 'int32'>\n"
     ]
    }
   ],
   "execution_count": 48
  },
  {
   "metadata": {
    "ExecuteTime": {
     "end_time": "2025-01-26T20:06:13.540643Z",
     "start_time": "2025-01-26T20:06:13.528168Z"
    }
   },
   "cell_type": "code",
   "source": [
    "# using tensorflow functions\n",
    "zeros = tf.zeros([3, 3])  # 3x3 matrix of zeros\n",
    "ones = tf.ones([3, 3])    # 3x3 matrix of ones\n",
    "random = tf.random.normal([3, 3], mean=2, stddev=1)  # Random normal distribution\n",
    "print(random)\n",
    "# reshaping tensors\n",
    "tensor = tf.constant([[1, 2], [3, 4], [5, 6]])\n",
    "reshaped = tf.reshape(tensor, (2, 3))\n",
    "print(\"Original Shape:\", tensor.shape)\n",
    "print(\"Reshaped Tensor:\\n\", reshaped)\n",
    "\n"
   ],
   "id": "720f2f31ba4df6",
   "outputs": [
    {
     "name": "stdout",
     "output_type": "stream",
     "text": [
      "tf.Tensor(\n",
      "[[1.1391778  1.807751   1.4827545 ]\n",
      " [2.2253256  0.18257725 1.1821389 ]\n",
      " [3.5470328  2.2862647  3.2341652 ]], shape=(3, 3), dtype=float32)\n",
      "Original Shape: (3, 2)\n",
      "Reshaped Tensor:\n",
      " tf.Tensor(\n",
      "[[1 2 3]\n",
      " [4 5 6]], shape=(2, 3), dtype=int32)\n"
     ]
    }
   ],
   "execution_count": 49
  },
  {
   "metadata": {
    "ExecuteTime": {
     "end_time": "2025-01-26T20:06:13.569038Z",
     "start_time": "2025-01-26T20:06:13.563635Z"
    }
   },
   "cell_type": "code",
   "source": [
    "# converting numpy to tensorflow\n",
    "import numpy as np\n",
    "array = np.array([1, 2, 3])\n",
    "tensor = tf.convert_to_tensor(array)\n",
    "print(tensor)\n"
   ],
   "id": "b2970e84f385242b",
   "outputs": [
    {
     "name": "stdout",
     "output_type": "stream",
     "text": [
      "tf.Tensor([1 2 3], shape=(3,), dtype=int64)\n"
     ]
    }
   ],
   "execution_count": 50
  },
  {
   "metadata": {
    "ExecuteTime": {
     "end_time": "2025-01-26T20:06:13.600289Z",
     "start_time": "2025-01-26T20:06:13.593579Z"
    }
   },
   "cell_type": "code",
   "source": [
    "# Broadcasting: TensorFlow automatically expands tensors with smaller dimensions to match larger ones during operations.\n",
    "x = tf.constant([[1, 2, 3]])\n",
    "y = tf.constant([[1], [2], [3]])\n",
    "result = tf.add(x, y)  # Broadcasts y to match x\n",
    "print(\"Broadcast Result:\\n\", result)\n"
   ],
   "id": "4470f530b88bf8ec",
   "outputs": [
    {
     "name": "stdout",
     "output_type": "stream",
     "text": [
      "Broadcast Result:\n",
      " tf.Tensor(\n",
      "[[2 3 4]\n",
      " [3 4 5]\n",
      " [4 5 6]], shape=(3, 3), dtype=int32)\n"
     ]
    }
   ],
   "execution_count": 51
  },
  {
   "metadata": {
    "ExecuteTime": {
     "end_time": "2025-01-26T20:06:13.628668Z",
     "start_time": "2025-01-26T20:06:13.623822Z"
    }
   },
   "cell_type": "code",
   "source": [
    "tensor = tf.constant([1, 2, 3])\n",
    "print(\"Device:\", tensor.device)  # Shows where the tensor is stored\n"
   ],
   "id": "8666665170ae0392",
   "outputs": [
    {
     "name": "stdout",
     "output_type": "stream",
     "text": [
      "Device: /job:localhost/replica:0/task:0/device:CPU:0\n"
     ]
    }
   ],
   "execution_count": 52
  },
  {
   "metadata": {
    "ExecuteTime": {
     "end_time": "2025-01-26T20:06:13.660037Z",
     "start_time": "2025-01-26T20:06:13.652587Z"
    }
   },
   "cell_type": "code",
   "source": [
    "# tensorflow variables\n",
    "var = tf.Variable([1.0, 2.0, 3.0])\n",
    "print(var)\n",
    "var.assign([4.0, 5.0, 6.0])  # Assign new values\n",
    "print(var)\n"
   ],
   "id": "a1774227a6da84d4",
   "outputs": [
    {
     "name": "stdout",
     "output_type": "stream",
     "text": [
      "<tf.Variable 'Variable:0' shape=(3,) dtype=float32, numpy=array([1., 2., 3.], dtype=float32)>\n",
      "<tf.Variable 'Variable:0' shape=(3,) dtype=float32, numpy=array([4., 5., 6.], dtype=float32)>\n"
     ]
    }
   ],
   "execution_count": 53
  },
  {
   "metadata": {
    "ExecuteTime": {
     "end_time": "2025-01-26T20:26:13.015791Z",
     "start_time": "2025-01-26T20:26:11.762946Z"
    }
   },
   "cell_type": "code",
   "source": [
    "# loading in a dataset and preprocessing\n",
    "# Load the dataset\n",
    "(train_images, train_labels), (test_images, test_labels) = tf.keras.datasets.fashion_mnist.load_data()\n",
    "\n",
    "# Normalize the images\n",
    "train_images = train_images / 255.0\n",
    "test_images = test_images / 255.0\n",
    "train_images = train_images[..., tf.newaxis]  # Add a channel dimension for grayscale images\n",
    "test_images = test_images[..., tf.newaxis]\n",
    "train_dataset = tf.data.Dataset.from_tensor_slices((train_images, train_labels))\n",
    "train_dataset = train_dataset.shuffle(buffer_size=10000).batch(32)\n",
    "train_dataset = train_dataset.batch(32)\n",
    "test_dataset = tf.data.Dataset.from_tensor_slices((test_images, test_labels)).batch(32)\n",
    "\n",
    "\n"
   ],
   "id": "88d36711dc9d0f1e",
   "outputs": [],
   "execution_count": 76
  },
  {
   "metadata": {
    "ExecuteTime": {
     "end_time": "2025-01-26T20:34:01.434975Z",
     "start_time": "2025-01-26T20:33:02.370691Z"
    }
   },
   "cell_type": "code",
   "source": [
    "    #building a model\n",
    "# Build the model\n",
    "model = tf.keras.Sequential([\n",
    "    tf.keras.layers.Flatten(input_shape=(28, 28)),\n",
    "    tf.keras.layers.Dense(128, activation='relu'),\n",
    "    tf.keras.layers.Dense(10, activation='softmax')\n",
    "])\n",
    "\n",
    "# Compile the model\n",
    "model.compile(optimizer='adam',\n",
    "              loss='sparse_categorical_crossentropy',\n",
    "              metrics=['accuracy'])\n",
    "\n",
    "# Debug shapes\n",
    "print(\"Train images shape:\", train_images.shape)  # (60000, 28, 28)\n",
    "print(\"Train labels shape:\", train_labels.shape)  # (60000,)\n",
    "\n",
    "# Train the model with batch size 32\n",
    "model.fit(train_images, train_labels, epochs=10, batch_size=32)\n",
    "\n"
   ],
   "id": "42dbfd615410668b",
   "outputs": [
    {
     "name": "stdout",
     "output_type": "stream",
     "text": [
      "Train images shape: (60000, 28, 28, 1)\n",
      "Train labels shape: (60000,)\n",
      "Epoch 1/20\n",
      "1875/1875 [==============================] - 3s 1ms/step - loss: 0.4994 - accuracy: 0.8249\n",
      "Epoch 2/20\n",
      "1875/1875 [==============================] - 3s 1ms/step - loss: 0.3750 - accuracy: 0.8640\n",
      "Epoch 3/20\n",
      "1875/1875 [==============================] - 3s 1ms/step - loss: 0.3367 - accuracy: 0.8779\n",
      "Epoch 4/20\n",
      "1875/1875 [==============================] - 3s 2ms/step - loss: 0.3116 - accuracy: 0.8855\n",
      "Epoch 5/20\n",
      "1875/1875 [==============================] - 3s 2ms/step - loss: 0.2957 - accuracy: 0.8910\n",
      "Epoch 6/20\n",
      "1875/1875 [==============================] - 3s 2ms/step - loss: 0.2800 - accuracy: 0.8975\n",
      "Epoch 7/20\n",
      "1875/1875 [==============================] - 3s 2ms/step - loss: 0.2686 - accuracy: 0.9020\n",
      "Epoch 8/20\n",
      "1875/1875 [==============================] - 3s 2ms/step - loss: 0.2580 - accuracy: 0.9044\n",
      "Epoch 9/20\n",
      "1875/1875 [==============================] - 3s 2ms/step - loss: 0.2488 - accuracy: 0.9070\n",
      "Epoch 10/20\n",
      "1875/1875 [==============================] - 3s 2ms/step - loss: 0.2400 - accuracy: 0.9110\n",
      "Epoch 11/20\n",
      "1875/1875 [==============================] - 3s 2ms/step - loss: 0.2313 - accuracy: 0.9152\n",
      "Epoch 12/20\n",
      "1875/1875 [==============================] - 3s 2ms/step - loss: 0.2245 - accuracy: 0.9169\n",
      "Epoch 13/20\n",
      "1875/1875 [==============================] - 3s 2ms/step - loss: 0.2168 - accuracy: 0.9183\n",
      "Epoch 14/20\n",
      "1875/1875 [==============================] - 3s 2ms/step - loss: 0.2108 - accuracy: 0.9207\n",
      "Epoch 15/20\n",
      "1875/1875 [==============================] - 3s 1ms/step - loss: 0.2070 - accuracy: 0.9227\n",
      "Epoch 16/20\n",
      "1875/1875 [==============================] - 3s 2ms/step - loss: 0.2013 - accuracy: 0.9250\n",
      "Epoch 17/20\n",
      "1875/1875 [==============================] - 3s 1ms/step - loss: 0.1939 - accuracy: 0.9260\n",
      "Epoch 18/20\n",
      "1875/1875 [==============================] - 3s 2ms/step - loss: 0.1891 - accuracy: 0.9295\n",
      "Epoch 19/20\n",
      "1875/1875 [==============================] - 3s 2ms/step - loss: 0.1839 - accuracy: 0.9314\n",
      "Epoch 20/20\n",
      "1875/1875 [==============================] - 3s 2ms/step - loss: 0.1815 - accuracy: 0.9314\n"
     ]
    },
    {
     "data": {
      "text/plain": [
       "<keras.src.callbacks.History at 0x15ae73490>"
      ]
     },
     "execution_count": 83,
     "metadata": {},
     "output_type": "execute_result"
    }
   ],
   "execution_count": 83
  },
  {
   "metadata": {
    "ExecuteTime": {
     "end_time": "2025-01-26T20:34:23.963028Z",
     "start_time": "2025-01-26T20:34:23.432578Z"
    }
   },
   "cell_type": "code",
   "source": [
    "# evaluate the model\n",
    "test_loss, test_acc = model.evaluate(test_images, test_labels, verbose=2)\n",
    "print(f'\\nTest accuracy: {test_acc}')\n"
   ],
   "id": "ab84857a8c3fb724",
   "outputs": [
    {
     "name": "stdout",
     "output_type": "stream",
     "text": [
      "313/313 - 0s - loss: 0.3704 - accuracy: 0.8831 - 402ms/epoch - 1ms/step\n",
      "\n",
      "Test accuracy: 0.8830999732017517\n"
     ]
    }
   ],
   "execution_count": 84
  },
  {
   "metadata": {
    "ExecuteTime": {
     "end_time": "2025-01-26T20:24:18.848331Z",
     "start_time": "2025-01-26T20:24:18.706325Z"
    }
   },
   "cell_type": "code",
   "source": [
    "# saving and loading a model\n",
    "model.save('my_model.keras')  # Save the entire model\n",
    "loaded_model = tf.keras.models.load_model('my_model.keras')  # Load it back\n"
   ],
   "id": "a6371abfead53d66",
   "outputs": [],
   "execution_count": 72
  },
  {
   "metadata": {
    "ExecuteTime": {
     "end_time": "2025-01-26T20:06:15.597015Z",
     "start_time": "2025-01-21T20:04:10.233292Z"
    }
   },
   "cell_type": "code",
   "source": "",
   "id": "87269a8a435203bd",
   "outputs": [],
   "execution_count": null
  }
 ],
 "metadata": {
  "kernelspec": {
   "display_name": "Python 3",
   "language": "python",
   "name": "python3"
  },
  "language_info": {
   "codemirror_mode": {
    "name": "ipython",
    "version": 2
   },
   "file_extension": ".py",
   "mimetype": "text/x-python",
   "name": "python",
   "nbconvert_exporter": "python",
   "pygments_lexer": "ipython2",
   "version": "2.7.6"
  }
 },
 "nbformat": 4,
 "nbformat_minor": 5
}
