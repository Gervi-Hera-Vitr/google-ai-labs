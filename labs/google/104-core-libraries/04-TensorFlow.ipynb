{
 "cells": [
  {
   "metadata": {},
   "cell_type": "raw",
   "source": [
    "\n",
    "    ## Captains Tensorflow and Keras Journey\n",
    "\n",
    "TensorFlow Learning:https://www.tensorflow.org/\n",
    "\n",
    "TensorFlow Glossary:https://developers.google.com/machine-learning/glossary#tensorflow\n",
    "\n",
    "Keras Learning: https://keras.io/\n",
    "\n",
    "Keras Glossary:https://developers.google.com/machine-learning/glossary#keras\n",
    "\n",
    "Now here is my understanding of TensorFlow And Keras:"
   ],
   "id": "e58a21f97de54af9"
  },
  {
   "metadata": {
    "collapsed": true,
    "ExecuteTime": {
     "end_time": "2025-01-07T15:26:10.736366Z",
     "start_time": "2025-01-07T15:26:10.641554Z"
    }
   },
   "cell_type": "code",
   "source": "import tensorflow as tf\n",
   "id": "initial_id",
   "outputs": [
    {
     "ename": "ImportError",
     "evalue": "dlopen(/Users/anton/miniforge3/envs/ml/lib/python3.12/site-packages/tensorflow/python/platform/_pywrap_cpu_feature_guard.so, 0x0002): Symbol not found: __ZN4absl12lts_2024072212log_internal10LogMessagelsIbLi0EEERS2_RKT_\n  Referenced from: <0334E7A4-ECCB-3FBA-BC41-C55ED08D7613> /Users/anton/miniforge3/envs/ml/lib/python3.12/site-packages/tensorflow/libtensorflow_framework.2.dylib\n  Expected in:     <E99B267F-7144-31DD-A5D4-F5B0B82894DA> /Users/anton/miniforge3/envs/ml/lib/libabsl_log_internal_message.2407.0.0.dylib",
     "output_type": "error",
     "traceback": [
      "\u001B[0;31m---------------------------------------------------------------------------\u001B[0m",
      "\u001B[0;31mImportError\u001B[0m                               Traceback (most recent call last)",
      "Cell \u001B[0;32mIn[14], line 1\u001B[0m\n\u001B[0;32m----> 1\u001B[0m \u001B[38;5;28;01mimport\u001B[39;00m \u001B[38;5;21;01mtensorflow\u001B[39;00m \u001B[38;5;28;01mas\u001B[39;00m \u001B[38;5;21;01mtf\u001B[39;00m\n",
      "File \u001B[0;32m~/miniforge3/envs/ml/lib/python3.12/site-packages/tensorflow/__init__.py:38\u001B[0m\n\u001B[1;32m     35\u001B[0m \u001B[38;5;28;01mimport\u001B[39;00m \u001B[38;5;21;01msys\u001B[39;00m \u001B[38;5;28;01mas\u001B[39;00m \u001B[38;5;21;01m_sys\u001B[39;00m\n\u001B[1;32m     37\u001B[0m \u001B[38;5;66;03m# Do not remove this line; See https://github.com/tensorflow/tensorflow/issues/42596\u001B[39;00m\n\u001B[0;32m---> 38\u001B[0m \u001B[38;5;28;01mfrom\u001B[39;00m \u001B[38;5;21;01mtensorflow\u001B[39;00m\u001B[38;5;21;01m.\u001B[39;00m\u001B[38;5;21;01mpython\u001B[39;00m \u001B[38;5;28;01mimport\u001B[39;00m pywrap_tensorflow \u001B[38;5;28;01mas\u001B[39;00m _pywrap_tensorflow  \u001B[38;5;66;03m# pylint: disable=unused-import\u001B[39;00m\n\u001B[1;32m     39\u001B[0m \u001B[38;5;28;01mfrom\u001B[39;00m \u001B[38;5;21;01mtensorflow\u001B[39;00m\u001B[38;5;21;01m.\u001B[39;00m\u001B[38;5;21;01mpython\u001B[39;00m\u001B[38;5;21;01m.\u001B[39;00m\u001B[38;5;21;01mtools\u001B[39;00m \u001B[38;5;28;01mimport\u001B[39;00m module_util \u001B[38;5;28;01mas\u001B[39;00m _module_util\n\u001B[1;32m     40\u001B[0m \u001B[38;5;28;01mfrom\u001B[39;00m \u001B[38;5;21;01mtensorflow\u001B[39;00m\u001B[38;5;21;01m.\u001B[39;00m\u001B[38;5;21;01mpython\u001B[39;00m\u001B[38;5;21;01m.\u001B[39;00m\u001B[38;5;21;01mutil\u001B[39;00m\u001B[38;5;21;01m.\u001B[39;00m\u001B[38;5;21;01mlazy_loader\u001B[39;00m \u001B[38;5;28;01mimport\u001B[39;00m KerasLazyLoader \u001B[38;5;28;01mas\u001B[39;00m _KerasLazyLoader\n",
      "File \u001B[0;32m~/miniforge3/envs/ml/lib/python3.12/site-packages/tensorflow/python/pywrap_tensorflow.py:34\u001B[0m\n\u001B[1;32m     29\u001B[0m \u001B[38;5;28;01mfrom\u001B[39;00m \u001B[38;5;21;01mtensorflow\u001B[39;00m\u001B[38;5;21;01m.\u001B[39;00m\u001B[38;5;21;01mpython\u001B[39;00m\u001B[38;5;21;01m.\u001B[39;00m\u001B[38;5;21;01mplatform\u001B[39;00m \u001B[38;5;28;01mimport\u001B[39;00m self_check\n\u001B[1;32m     31\u001B[0m \u001B[38;5;66;03m# TODO(mdan): Cleanup antipattern: import for side effects.\u001B[39;00m\n\u001B[1;32m     32\u001B[0m \n\u001B[1;32m     33\u001B[0m \u001B[38;5;66;03m# Perform pre-load sanity checks in order to produce a more actionable error.\u001B[39;00m\n\u001B[0;32m---> 34\u001B[0m \u001B[43mself_check\u001B[49m\u001B[38;5;241;43m.\u001B[39;49m\u001B[43mpreload_check\u001B[49m\u001B[43m(\u001B[49m\u001B[43m)\u001B[49m\n\u001B[1;32m     36\u001B[0m \u001B[38;5;66;03m# pylint: disable=wildcard-import,g-import-not-at-top,unused-import,line-too-long\u001B[39;00m\n\u001B[1;32m     38\u001B[0m \u001B[38;5;28;01mtry\u001B[39;00m:\n\u001B[1;32m     39\u001B[0m   \u001B[38;5;66;03m# This import is expected to fail if there is an explicit shared object\u001B[39;00m\n\u001B[1;32m     40\u001B[0m   \u001B[38;5;66;03m# dependency (with_framework_lib=true), since we do not need RTLD_GLOBAL.\u001B[39;00m\n",
      "File \u001B[0;32m~/miniforge3/envs/ml/lib/python3.12/site-packages/tensorflow/python/platform/self_check.py:63\u001B[0m, in \u001B[0;36mpreload_check\u001B[0;34m()\u001B[0m\n\u001B[1;32m     50\u001B[0m       \u001B[38;5;28;01mraise\u001B[39;00m \u001B[38;5;167;01mImportError\u001B[39;00m(\n\u001B[1;32m     51\u001B[0m           \u001B[38;5;124m\"\u001B[39m\u001B[38;5;124mCould not find the DLL(s) \u001B[39m\u001B[38;5;132;01m%r\u001B[39;00m\u001B[38;5;124m. TensorFlow requires that these DLLs \u001B[39m\u001B[38;5;124m\"\u001B[39m\n\u001B[1;32m     52\u001B[0m           \u001B[38;5;124m\"\u001B[39m\u001B[38;5;124mbe installed in a directory that is named in your \u001B[39m\u001B[38;5;132;01m%%\u001B[39;00m\u001B[38;5;124mPATH\u001B[39m\u001B[38;5;132;01m%%\u001B[39;00m\u001B[38;5;124m \u001B[39m\u001B[38;5;124m\"\u001B[39m\n\u001B[0;32m   (...)\u001B[0m\n\u001B[1;32m     56\u001B[0m           \u001B[38;5;124m\"\u001B[39m\u001B[38;5;124mhttps://support.microsoft.com/help/2977003/the-latest-supported-visual-c-downloads\u001B[39m\u001B[38;5;124m\"\u001B[39m\n\u001B[1;32m     57\u001B[0m           \u001B[38;5;241m%\u001B[39m \u001B[38;5;124m\"\u001B[39m\u001B[38;5;124m or \u001B[39m\u001B[38;5;124m\"\u001B[39m\u001B[38;5;241m.\u001B[39mjoin(missing))\n\u001B[1;32m     58\u001B[0m \u001B[38;5;28;01melse\u001B[39;00m:\n\u001B[1;32m     59\u001B[0m   \u001B[38;5;66;03m# Load a library that performs CPU feature guard checking.  Doing this here\u001B[39;00m\n\u001B[1;32m     60\u001B[0m   \u001B[38;5;66;03m# as a preload check makes it more likely that we detect any CPU feature\u001B[39;00m\n\u001B[1;32m     61\u001B[0m   \u001B[38;5;66;03m# incompatibilities before we trigger them (which would typically result in\u001B[39;00m\n\u001B[1;32m     62\u001B[0m   \u001B[38;5;66;03m# SIGILL).\u001B[39;00m\n\u001B[0;32m---> 63\u001B[0m   \u001B[38;5;28;01mfrom\u001B[39;00m \u001B[38;5;21;01mtensorflow\u001B[39;00m\u001B[38;5;21;01m.\u001B[39;00m\u001B[38;5;21;01mpython\u001B[39;00m\u001B[38;5;21;01m.\u001B[39;00m\u001B[38;5;21;01mplatform\u001B[39;00m \u001B[38;5;28;01mimport\u001B[39;00m _pywrap_cpu_feature_guard\n\u001B[1;32m     64\u001B[0m   _pywrap_cpu_feature_guard\u001B[38;5;241m.\u001B[39mInfoAboutUnusedCPUFeatures()\n",
      "\u001B[0;31mImportError\u001B[0m: dlopen(/Users/anton/miniforge3/envs/ml/lib/python3.12/site-packages/tensorflow/python/platform/_pywrap_cpu_feature_guard.so, 0x0002): Symbol not found: __ZN4absl12lts_2024072212log_internal10LogMessagelsIbLi0EEERS2_RKT_\n  Referenced from: <0334E7A4-ECCB-3FBA-BC41-C55ED08D7613> /Users/anton/miniforge3/envs/ml/lib/python3.12/site-packages/tensorflow/libtensorflow_framework.2.dylib\n  Expected in:     <E99B267F-7144-31DD-A5D4-F5B0B82894DA> /Users/anton/miniforge3/envs/ml/lib/libabsl_log_internal_message.2407.0.0.dylib"
     ]
    }
   ],
   "execution_count": 14
  },
  {
   "metadata": {
    "ExecuteTime": {
     "end_time": "2025-01-07T15:26:12.132368Z",
     "start_time": "2025-01-07T15:26:12.114454Z"
    }
   },
   "cell_type": "code",
   "source": [
    "# Create a tensor which is an array\n",
    "tensor = tf.constant([[1, 2], [3, 4]])\n",
    "print(tensor)"
   ],
   "id": "e7b0be8cdf39e0c9",
   "outputs": [
    {
     "ename": "NameError",
     "evalue": "name 'tf' is not defined",
     "output_type": "error",
     "traceback": [
      "\u001B[0;31m---------------------------------------------------------------------------\u001B[0m",
      "\u001B[0;31mNameError\u001B[0m                                 Traceback (most recent call last)",
      "Cell \u001B[0;32mIn[15], line 2\u001B[0m\n\u001B[1;32m      1\u001B[0m \u001B[38;5;66;03m# Create a tensor which is an array\u001B[39;00m\n\u001B[0;32m----> 2\u001B[0m tensor \u001B[38;5;241m=\u001B[39m \u001B[43mtf\u001B[49m\u001B[38;5;241m.\u001B[39mconstant([[\u001B[38;5;241m1\u001B[39m, \u001B[38;5;241m2\u001B[39m], [\u001B[38;5;241m3\u001B[39m, \u001B[38;5;241m4\u001B[39m]])\n\u001B[1;32m      3\u001B[0m \u001B[38;5;28mprint\u001B[39m(tensor)\n",
      "\u001B[0;31mNameError\u001B[0m: name 'tf' is not defined"
     ]
    }
   ],
   "execution_count": 15
  },
  {
   "metadata": {
    "ExecuteTime": {
     "end_time": "2025-01-02T11:49:01.183970Z",
     "start_time": "2025-01-02T11:49:01.172539Z"
    }
   },
   "cell_type": "code",
   "source": [
    "# tensor math and manipulation\n",
    "a = tf.constant([[1, 2], [3, 4]])\n",
    "b = tf.constant([[5, 6], [7, 8]])\n",
    "\n",
    "\n",
    "c = tf.add(a, b)\n",
    "print(c)\n",
    "d = tf.multiply(a, b)\n",
    "print(d)\n",
    "e = tf.subtract(a, b)\n",
    "print(e)\n",
    "f = tf.divide(a, b)\n",
    "print(f)"
   ],
   "id": "a1c7744a571278ee",
   "outputs": [
    {
     "name": "stdout",
     "output_type": "stream",
     "text": [
      "tf.Tensor(\n",
      "[[ 6  8]\n",
      " [10 12]], shape=(2, 2), dtype=int32)\n",
      "tf.Tensor(\n",
      "[[ 5 12]\n",
      " [21 32]], shape=(2, 2), dtype=int32)\n",
      "tf.Tensor(\n",
      "[[-4 -4]\n",
      " [-4 -4]], shape=(2, 2), dtype=int32)\n",
      "tf.Tensor(\n",
      "[[0.2        0.33333333]\n",
      " [0.42857143 0.5       ]], shape=(2, 2), dtype=float64)\n"
     ]
    }
   ],
   "execution_count": 40
  },
  {
   "metadata": {
    "ExecuteTime": {
     "end_time": "2025-01-02T11:49:01.260357Z",
     "start_time": "2025-01-02T11:49:01.255168Z"
    }
   },
   "cell_type": "code",
   "source": [
    "# manipulating tensor attributes\n",
    "print(tensor.shape)  # Shape of the tensor\n",
    "print(tensor.dtype)  # Data type of the tensor\n",
    "\n"
   ],
   "id": "37e380e76990a5ad",
   "outputs": [
    {
     "name": "stdout",
     "output_type": "stream",
     "text": [
      "(2, 2)\n",
      "<dtype: 'int32'>\n"
     ]
    }
   ],
   "execution_count": 41
  },
  {
   "metadata": {
    "ExecuteTime": {
     "end_time": "2025-01-02T11:49:01.334292Z",
     "start_time": "2025-01-02T11:49:01.326538Z"
    }
   },
   "cell_type": "code",
   "source": [
    "# using tensorflow functions\n",
    "zeros = tf.zeros([3, 3])  # 3x3 matrix of zeros\n",
    "ones = tf.ones([3, 3])    # 3x3 matrix of ones\n",
    "random = tf.random.normal([3, 3], mean=2, stddev=1)  # Random normal distribution\n",
    "print(random)\n"
   ],
   "id": "720f2f31ba4df6",
   "outputs": [
    {
     "name": "stdout",
     "output_type": "stream",
     "text": [
      "tf.Tensor(\n",
      "[[ 2.011369   2.0946212  2.1868975]\n",
      " [ 2.5985415 -0.2769544  1.1245179]\n",
      " [ 1.4943987  1.3953772  1.4403389]], shape=(3, 3), dtype=float32)\n"
     ]
    }
   ],
   "execution_count": 42
  },
  {
   "metadata": {
    "ExecuteTime": {
     "end_time": "2025-01-02T11:49:01.407908Z",
     "start_time": "2025-01-02T11:49:01.400770Z"
    }
   },
   "cell_type": "code",
   "source": [
    "# converting numpy to tensorflow\n",
    "import numpy as np\n",
    "array = np.array([1, 2, 3])\n",
    "tensor = tf.convert_to_tensor(array)\n",
    "print(tensor)\n"
   ],
   "id": "b2970e84f385242b",
   "outputs": [
    {
     "name": "stdout",
     "output_type": "stream",
     "text": [
      "tf.Tensor([1 2 3], shape=(3,), dtype=int64)\n"
     ]
    }
   ],
   "execution_count": 43
  },
  {
   "metadata": {
    "ExecuteTime": {
     "end_time": "2025-01-02T11:49:01.532332Z",
     "start_time": "2025-01-02T11:49:01.523564Z"
    }
   },
   "cell_type": "code",
   "source": [
    "# tensorflow variables\n",
    "var = tf.Variable([1.0, 2.0, 3.0])\n",
    "print(var)\n",
    "var.assign([4.0, 5.0, 6.0])  # Assign new values\n",
    "print(var)\n"
   ],
   "id": "a1774227a6da84d4",
   "outputs": [
    {
     "name": "stdout",
     "output_type": "stream",
     "text": [
      "<tf.Variable 'Variable:0' shape=(3,) dtype=float32, numpy=array([1., 2., 3.], dtype=float32)>\n",
      "<tf.Variable 'Variable:0' shape=(3,) dtype=float32, numpy=array([4., 5., 6.], dtype=float32)>\n"
     ]
    }
   ],
   "execution_count": 44
  },
  {
   "metadata": {
    "ExecuteTime": {
     "end_time": "2025-01-07T15:24:30.989814Z",
     "start_time": "2025-01-07T15:24:30.800284Z"
    }
   },
   "cell_type": "code",
   "source": [
    "mnist = keras.datasets.mnist\n",
    "(x_train, y_train), (x_test, y_test) = mnist.load_data()\n",
    "x_train, x_test = x_train / 255.0, x_test / 255.0\n"
   ],
   "id": "990e511f745c296a",
   "outputs": [
    {
     "ename": "NameError",
     "evalue": "name 'keras' is not defined",
     "output_type": "error",
     "traceback": [
      "\u001B[0;31m---------------------------------------------------------------------------\u001B[0m",
      "\u001B[0;31mNameError\u001B[0m                                 Traceback (most recent call last)",
      "Cell \u001B[0;32mIn[1], line 1\u001B[0m\n\u001B[0;32m----> 1\u001B[0m mnist \u001B[38;5;241m=\u001B[39m \u001B[43mkeras\u001B[49m\u001B[38;5;241m.\u001B[39mdatasets\u001B[38;5;241m.\u001B[39mmnist\n\u001B[1;32m      3\u001B[0m (x_train, y_train), (x_test, y_test) \u001B[38;5;241m=\u001B[39m mnist\u001B[38;5;241m.\u001B[39mload_data()\n\u001B[1;32m      4\u001B[0m x_train, x_test \u001B[38;5;241m=\u001B[39m x_train \u001B[38;5;241m/\u001B[39m \u001B[38;5;241m255.0\u001B[39m, x_test \u001B[38;5;241m/\u001B[39m \u001B[38;5;241m255.0\u001B[39m\n",
      "\u001B[0;31mNameError\u001B[0m: name 'keras' is not defined"
     ]
    }
   ],
   "execution_count": 1
  }
 ],
 "metadata": {
  "kernelspec": {
   "display_name": "Python 3",
   "language": "python",
   "name": "python3"
  },
  "language_info": {
   "codemirror_mode": {
    "name": "ipython",
    "version": 2
   },
   "file_extension": ".py",
   "mimetype": "text/x-python",
   "name": "python",
   "nbconvert_exporter": "python",
   "pygments_lexer": "ipython2",
   "version": "2.7.6"
  }
 },
 "nbformat": 4,
 "nbformat_minor": 5
}
