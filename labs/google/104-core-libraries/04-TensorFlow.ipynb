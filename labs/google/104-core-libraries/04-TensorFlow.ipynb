{
 "cells": [
  {
   "metadata": {},
   "cell_type": "raw",
   "source": [
    "\n",
    "    ## Captains Tensorflow and Keras Journey\n",
    "\n",
    "TensorFlow Learning:https://www.tensorflow.org/\n",
    "\n",
    "TensorFlow Glossary:https://developers.google.com/machine-learning/glossary#tensorflow\n",
    "\n",
    "Keras Learning: https://keras.io/\n",
    "\n",
    "Keras Glossary:https://developers.google.com/machine-learning/glossary#keras\n",
    "\n",
    "Now here is my understanding of TensorFlow And Keras:"
   ],
   "id": "e58a21f97de54af9"
  },
  {
   "metadata": {
    "collapsed": true,
    "ExecuteTime": {
     "end_time": "2025-01-28T22:52:32.687461Z",
     "start_time": "2025-01-28T22:52:32.679253Z"
    }
   },
   "cell_type": "code",
   "source": [
    "# Basics of TensorFlow and Keras:\n",
    "# setting up TensorFlow\n",
    "import numpy\n",
    "import tensorflow as tf\n",
    "from tensorflow.keras import layers, model\n",
    "print(tf.__version__)\n",
    "print(numpy.__version__)"
   ],
   "id": "initial_id",
   "outputs": [
    {
     "name": "stdout",
     "output_type": "stream",
     "text": [
      "2.13.1\n",
      "1.24.3\n"
     ]
    }
   ],
   "execution_count": 33
  },
  {
   "metadata": {
    "ExecuteTime": {
     "end_time": "2025-01-28T22:52:32.731870Z",
     "start_time": "2025-01-28T22:52:32.709701Z"
    }
   },
   "cell_type": "code",
   "source": [
    "# Create a tensor which is an array\n",
    "tensor = tf.constant([[1, 2], [3, 4]])\n",
    "print(tensor)\n",
    "# tensorflow Variables can be changed or updated unlike constants\n",
    "var = tf.Variable([1, 2, 3])\n",
    "print(\"Before update:\", var.numpy())\n",
    "\n",
    "# Update the variable\n",
    "var.assign([4, 5, 6])\n",
    "print(\"After update:\", var.numpy())\n"
   ],
   "id": "e7b0be8cdf39e0c9",
   "outputs": [
    {
     "name": "stdout",
     "output_type": "stream",
     "text": [
      "tf.Tensor(\n",
      "[[1 2]\n",
      " [3 4]], shape=(2, 2), dtype=int32)\n",
      "Before update: [1 2 3]\n",
      "After update: [4 5 6]\n"
     ]
    }
   ],
   "execution_count": 34
  },
  {
   "metadata": {
    "ExecuteTime": {
     "end_time": "2025-01-28T22:52:32.773536Z",
     "start_time": "2025-01-28T22:52:32.753441Z"
    }
   },
   "cell_type": "code",
   "source": [
    "# tensor math and manipulation\n",
    "a = tf.constant([[1, 2], [3, 4]])\n",
    "b = tf.constant([[5, 6], [7, 8]])\n",
    "\n",
    "\n",
    "c = tf.add(a, b)\n",
    "print(c)\n",
    "d = tf.multiply(a, b)\n",
    "print(d)\n",
    "e = tf.subtract(a, b)\n",
    "print(e)\n",
    "f = tf.divide(a, b)\n",
    "print(f)"
   ],
   "id": "a1c7744a571278ee",
   "outputs": [
    {
     "name": "stdout",
     "output_type": "stream",
     "text": [
      "tf.Tensor(\n",
      "[[ 6  8]\n",
      " [10 12]], shape=(2, 2), dtype=int32)\n",
      "tf.Tensor(\n",
      "[[ 5 12]\n",
      " [21 32]], shape=(2, 2), dtype=int32)\n",
      "tf.Tensor(\n",
      "[[-4 -4]\n",
      " [-4 -4]], shape=(2, 2), dtype=int32)\n",
      "tf.Tensor(\n",
      "[[0.2        0.33333333]\n",
      " [0.42857143 0.5       ]], shape=(2, 2), dtype=float64)\n"
     ]
    }
   ],
   "execution_count": 35
  },
  {
   "metadata": {
    "ExecuteTime": {
     "end_time": "2025-01-28T22:52:32.800702Z",
     "start_time": "2025-01-28T22:52:32.793721Z"
    }
   },
   "cell_type": "code",
   "source": [
    "# checking tensorflow properties\n",
    "tensor = tf.constant([[1, 2], [3, 4]])\n",
    "\n",
    "print(\"Shape:\", tensor.shape)       # (2, 2)\n",
    "print(\"Rank:\", tf.rank(tensor))     # 2\n",
    "print(\"Data Type:\", tensor.dtype)   # int32\n",
    "\n"
   ],
   "id": "37e380e76990a5ad",
   "outputs": [
    {
     "name": "stdout",
     "output_type": "stream",
     "text": [
      "Shape: (2, 2)\n",
      "Rank: tf.Tensor(2, shape=(), dtype=int32)\n",
      "Data Type: <dtype: 'int32'>\n"
     ]
    }
   ],
   "execution_count": 36
  },
  {
   "metadata": {
    "ExecuteTime": {
     "end_time": "2025-01-28T22:52:32.841993Z",
     "start_time": "2025-01-28T22:52:32.821371Z"
    }
   },
   "cell_type": "code",
   "source": [
    "# using tensorflow functions\n",
    "zeros = tf.zeros([3, 3])  # 3x3 matrix of zeros\n",
    "ones = tf.ones([3, 3])    # 3x3 matrix of ones\n",
    "random = tf.random.normal([3, 3], mean=2, stddev=1)  # Random normal distribution\n",
    "print(random)\n",
    "# reshaping tensors\n",
    "tensor = tf.constant([[1, 2], [3, 4], [5, 6]])\n",
    "reshaped = tf.reshape(tensor, (2, 3))\n",
    "print(\"Original Shape:\", tensor.shape)\n",
    "print(\"Reshaped Tensor:\\n\", reshaped)\n",
    "\n"
   ],
   "id": "720f2f31ba4df6",
   "outputs": [
    {
     "name": "stdout",
     "output_type": "stream",
     "text": [
      "tf.Tensor(\n",
      "[[2.140635   0.36386228 1.5013366 ]\n",
      " [0.8692272  0.9856421  2.7437341 ]\n",
      " [2.9660363  1.7267406  1.401325  ]], shape=(3, 3), dtype=float32)\n",
      "Original Shape: (3, 2)\n",
      "Reshaped Tensor:\n",
      " tf.Tensor(\n",
      "[[1 2 3]\n",
      " [4 5 6]], shape=(2, 3), dtype=int32)\n"
     ]
    }
   ],
   "execution_count": 37
  },
  {
   "metadata": {
    "ExecuteTime": {
     "end_time": "2025-01-28T22:52:32.866276Z",
     "start_time": "2025-01-28T22:52:32.860680Z"
    }
   },
   "cell_type": "code",
   "source": [
    "# converting numpy to tensorflow\n",
    "import numpy as np\n",
    "array = np.array([1, 2, 3])\n",
    "tensor = tf.convert_to_tensor(array)\n",
    "print(tensor)\n"
   ],
   "id": "b2970e84f385242b",
   "outputs": [
    {
     "name": "stdout",
     "output_type": "stream",
     "text": [
      "tf.Tensor([1 2 3], shape=(3,), dtype=int64)\n"
     ]
    }
   ],
   "execution_count": 38
  },
  {
   "metadata": {
    "ExecuteTime": {
     "end_time": "2025-01-28T22:52:32.893330Z",
     "start_time": "2025-01-28T22:52:32.886558Z"
    }
   },
   "cell_type": "code",
   "source": [
    "# Broadcasting: TensorFlow automatically expands tensors with smaller dimensions to match larger ones during operations.\n",
    "x = tf.constant([[1, 2, 3]])\n",
    "y = tf.constant([[1], [2], [3]])\n",
    "result = tf.add(x, y)  # Broadcasts y to match x\n",
    "print(\"Broadcast Result:\\n\", result)\n"
   ],
   "id": "4470f530b88bf8ec",
   "outputs": [
    {
     "name": "stdout",
     "output_type": "stream",
     "text": [
      "Broadcast Result:\n",
      " tf.Tensor(\n",
      "[[2 3 4]\n",
      " [3 4 5]\n",
      " [4 5 6]], shape=(3, 3), dtype=int32)\n"
     ]
    }
   ],
   "execution_count": 39
  },
  {
   "metadata": {
    "ExecuteTime": {
     "end_time": "2025-01-28T22:52:32.917495Z",
     "start_time": "2025-01-28T22:52:32.913699Z"
    }
   },
   "cell_type": "code",
   "source": [
    "tensor = tf.constant([1, 2, 3])\n",
    "print(\"Device:\", tensor.device)  # Shows where the tensor is stored\n"
   ],
   "id": "8666665170ae0392",
   "outputs": [
    {
     "name": "stdout",
     "output_type": "stream",
     "text": [
      "Device: /job:localhost/replica:0/task:0/device:CPU:0\n"
     ]
    }
   ],
   "execution_count": 40
  },
  {
   "metadata": {
    "ExecuteTime": {
     "end_time": "2025-01-28T22:52:32.939286Z",
     "start_time": "2025-01-28T22:52:32.932534Z"
    }
   },
   "cell_type": "code",
   "source": [
    "# tensorflow variables\n",
    "var = tf.Variable([1.0, 2.0, 3.0])\n",
    "print(var)\n",
    "var.assign([4.0, 5.0, 6.0])  # Assign new values\n",
    "print(var)\n"
   ],
   "id": "a1774227a6da84d4",
   "outputs": [
    {
     "name": "stdout",
     "output_type": "stream",
     "text": [
      "<tf.Variable 'Variable:0' shape=(3,) dtype=float32, numpy=array([1., 2., 3.], dtype=float32)>\n",
      "<tf.Variable 'Variable:0' shape=(3,) dtype=float32, numpy=array([4., 5., 6.], dtype=float32)>\n"
     ]
    }
   ],
   "execution_count": 41
  },
  {
   "metadata": {
    "ExecuteTime": {
     "end_time": "2025-01-28T22:52:34.049211Z",
     "start_time": "2025-01-28T22:52:32.954092Z"
    }
   },
   "cell_type": "code",
   "source": [
    "# loading in a dataset and preprocessing\n",
    "# Load the dataset\n",
    "(train_images, train_labels), (test_images, test_labels) = tf.keras.datasets.fashion_mnist.load_data()\n",
    "\n",
    "# Normalize the images\n",
    "train_images = train_images / 255.0\n",
    "test_images = test_images / 255.0\n",
    "train_images = train_images[..., tf.newaxis]  # Add a channel dimension for grayscale images\n",
    "test_images = test_images[..., tf.newaxis]\n",
    "train_dataset = tf.data.Dataset.from_tensor_slices((train_images, train_labels))\n",
    "train_dataset = train_dataset.shuffle(buffer_size=10000).batch(32)\n",
    "train_dataset = train_dataset.batch(32)\n",
    "test_dataset = tf.data.Dataset.from_tensor_slices((test_images, test_labels)).batch(32)\n",
    "\n",
    "\n"
   ],
   "id": "88d36711dc9d0f1e",
   "outputs": [],
   "execution_count": 42
  },
  {
   "metadata": {
    "ExecuteTime": {
     "end_time": "2025-01-28T22:53:05.049977Z",
     "start_time": "2025-01-28T22:52:34.066416Z"
    }
   },
   "cell_type": "code",
   "source": [
    "    #building a model\n",
    "# Build the model\n",
    "model = tf.keras.Sequential([\n",
    "    tf.keras.layers.Flatten(input_shape=(28, 28)),\n",
    "    tf.keras.layers.Dense(128, activation='relu'),\n",
    "    tf.keras.layers.Dense(10, activation='softmax')\n",
    "])\n",
    "\n",
    "# Compile the model\n",
    "model.compile(optimizer='adam',\n",
    "              loss='sparse_categorical_crossentropy',\n",
    "              metrics=['accuracy'])\n",
    "\n",
    "# Debug shapes\n",
    "print(\"Train images shape:\", train_images.shape)  # (60000, 28, 28)\n",
    "print(\"Train labels shape:\", train_labels.shape)  # (60000,)\n",
    "\n",
    "# Train the model with batch size 32\n",
    "model.fit(train_images, train_labels, epochs=10, batch_size=32)\n",
    "\n"
   ],
   "id": "42dbfd615410668b",
   "outputs": [
    {
     "name": "stdout",
     "output_type": "stream",
     "text": [
      "Train images shape: (60000, 28, 28, 1)\n",
      "Train labels shape: (60000,)\n",
      "Epoch 1/10\n",
      "1875/1875 [==============================] - 3s 1ms/step - loss: 0.5036 - accuracy: 0.8231\n",
      "Epoch 2/10\n",
      "1875/1875 [==============================] - 3s 1ms/step - loss: 0.3777 - accuracy: 0.8637\n",
      "Epoch 3/10\n",
      "1875/1875 [==============================] - 3s 2ms/step - loss: 0.3372 - accuracy: 0.8771\n",
      "Epoch 4/10\n",
      "1875/1875 [==============================] - 4s 2ms/step - loss: 0.3128 - accuracy: 0.8850\n",
      "Epoch 5/10\n",
      "1875/1875 [==============================] - 3s 2ms/step - loss: 0.2958 - accuracy: 0.8910\n",
      "Epoch 6/10\n",
      "1875/1875 [==============================] - 3s 1ms/step - loss: 0.2810 - accuracy: 0.8972\n",
      "Epoch 7/10\n",
      "1875/1875 [==============================] - 3s 2ms/step - loss: 0.2682 - accuracy: 0.9012\n",
      "Epoch 8/10\n",
      "1875/1875 [==============================] - 3s 2ms/step - loss: 0.2582 - accuracy: 0.9026\n",
      "Epoch 9/10\n",
      "1875/1875 [==============================] - 3s 2ms/step - loss: 0.2489 - accuracy: 0.9066\n",
      "Epoch 10/10\n",
      "1875/1875 [==============================] - 3s 2ms/step - loss: 0.2398 - accuracy: 0.9094\n"
     ]
    },
    {
     "data": {
      "text/plain": [
       "<keras.src.callbacks.History at 0x1489c32d0>"
      ]
     },
     "execution_count": 43,
     "metadata": {},
     "output_type": "execute_result"
    }
   ],
   "execution_count": 43
  },
  {
   "metadata": {
    "ExecuteTime": {
     "end_time": "2025-01-28T22:53:05.723026Z",
     "start_time": "2025-01-28T22:53:05.081236Z"
    }
   },
   "cell_type": "code",
   "source": [
    "# evaluate the model\n",
    "test_loss, test_acc = model.evaluate(test_images, test_labels, verbose=2)\n",
    "print(f'\\nTest accuracy: {test_acc}')\n"
   ],
   "id": "ab84857a8c3fb724",
   "outputs": [
    {
     "name": "stdout",
     "output_type": "stream",
     "text": [
      "313/313 - 0s - loss: 0.3268 - accuracy: 0.8867 - 388ms/epoch - 1ms/step\n",
      "\n",
      "Test accuracy: 0.8866999745368958\n"
     ]
    }
   ],
   "execution_count": 44
  },
  {
   "metadata": {
    "ExecuteTime": {
     "end_time": "2025-01-28T22:53:05.773959Z",
     "start_time": "2025-01-28T22:48:02.198791Z"
    }
   },
   "cell_type": "code",
   "outputs": [
    {
     "name": "stdout",
     "output_type": "stream",
     "text": [
      "Available keys: dict_keys([])\n"
     ]
    }
   ],
   "execution_count": 26,
   "source": [
    "# saving and loading a model\n",
    "model.save('my_model.keras')  # Save the entire model\n",
    "loaded_model = tf.keras.models.load_model('my_model.keras')  # Load it back\n",
    "print(\"Available keys:\", model.history.history.keys())\n"
   ],
   "id": "a6371abfead53d66"
  },
  {
   "metadata": {},
   "cell_type": "code",
   "outputs": [],
   "execution_count": null,
   "source": "",
   "id": "9e9ecaa61f4f0448"
  }
 ],
 "metadata": {
  "kernelspec": {
   "display_name": "Python 3",
   "language": "python",
   "name": "python3"
  },
  "language_info": {
   "codemirror_mode": {
    "name": "ipython",
    "version": 2
   },
   "file_extension": ".py",
   "mimetype": "text/x-python",
   "name": "python",
   "nbconvert_exporter": "python",
   "pygments_lexer": "ipython2",
   "version": "2.7.6"
  }
 },
 "nbformat": 4,
 "nbformat_minor": 5
}
