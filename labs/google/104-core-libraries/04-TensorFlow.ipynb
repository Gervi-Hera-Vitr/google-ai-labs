{
 "cells": [
  {
   "metadata": {},
   "cell_type": "raw",
   "source": [
    "\n",
    "    ## Captains Tensorflow and Keras Journey\n",
    "\n",
    "TensorFlow Learning:https://www.tensorflow.org/\n",
    "\n",
    "TensorFlow Glossary:https://developers.google.com/machine-learning/glossary#tensorflow\n",
    "\n",
    "Keras Learning: https://keras.io/\n",
    "\n",
    "Keras Glossary:https://developers.google.com/machine-learning/glossary#keras\n",
    "\n",
    "Now here is my understanding of TensorFlow And Keras:"
   ],
   "id": "e58a21f97de54af9"
  },
  {
   "metadata": {
    "collapsed": true,
    "ExecuteTime": {
     "end_time": "2025-01-14T17:49:39.681585Z",
     "start_time": "2025-01-14T17:49:39.677131Z"
    }
   },
   "cell_type": "code",
   "source": [
    "# Basics of TensorFlow and Keras\n",
    "# setting up TensorFlow\n",
    "import tensorflow as tf\n",
    "import keras\n",
    "print(tf.version)"
   ],
   "id": "initial_id",
   "outputs": [
    {
     "name": "stdout",
     "output_type": "stream",
     "text": [
      "<module 'tensorflow._api.v2.version' from '/Users/anton/miniforge3/envs/ml/lib/python3.11/site-packages/tensorflow/_api/v2/version/__init__.py'>\n"
     ]
    }
   ],
   "execution_count": 6
  },
  {
   "metadata": {
    "ExecuteTime": {
     "end_time": "2025-01-14T17:49:39.722638Z",
     "start_time": "2025-01-14T17:49:39.714038Z"
    }
   },
   "cell_type": "code",
   "source": [
    "# Create a tensor which is an array\n",
    "tensor = tf.constant([[1, 2], [3, 4]])\n",
    "print(tensor)"
   ],
   "id": "e7b0be8cdf39e0c9",
   "outputs": [
    {
     "name": "stdout",
     "output_type": "stream",
     "text": [
      "tf.Tensor(\n",
      "[[1 2]\n",
      " [3 4]], shape=(2, 2), dtype=int32)\n"
     ]
    }
   ],
   "execution_count": 7
  },
  {
   "metadata": {
    "ExecuteTime": {
     "end_time": "2025-01-14T17:49:39.787937Z",
     "start_time": "2025-01-14T17:49:39.746058Z"
    }
   },
   "cell_type": "code",
   "source": [
    "# tensor math and manipulation\n",
    "a = tf.constant([[1, 2], [3, 4]])\n",
    "b = tf.constant([[5, 6], [7, 8]])\n",
    "\n",
    "\n",
    "c = tf.add(a, b)\n",
    "print(c)\n",
    "d = tf.multiply(a, b)\n",
    "print(d)\n",
    "e = tf.subtract(a, b)\n",
    "print(e)\n",
    "f = tf.divide(a, b)\n",
    "print(f)"
   ],
   "id": "a1c7744a571278ee",
   "outputs": [
    {
     "name": "stdout",
     "output_type": "stream",
     "text": [
      "tf.Tensor(\n",
      "[[ 6  8]\n",
      " [10 12]], shape=(2, 2), dtype=int32)\n",
      "tf.Tensor(\n",
      "[[ 5 12]\n",
      " [21 32]], shape=(2, 2), dtype=int32)\n",
      "tf.Tensor(\n",
      "[[-4 -4]\n",
      " [-4 -4]], shape=(2, 2), dtype=int32)\n",
      "tf.Tensor(\n",
      "[[0.2        0.33333333]\n",
      " [0.42857143 0.5       ]], shape=(2, 2), dtype=float64)\n"
     ]
    }
   ],
   "execution_count": 8
  },
  {
   "metadata": {
    "ExecuteTime": {
     "end_time": "2025-01-14T17:49:39.815978Z",
     "start_time": "2025-01-14T17:49:39.810239Z"
    }
   },
   "cell_type": "code",
   "source": [
    "# manipulating tensor attributes\n",
    "print(tensor.shape)  # Shape of the tensor\n",
    "print(tensor.dtype)  # Data type of the tensor\n",
    "\n"
   ],
   "id": "37e380e76990a5ad",
   "outputs": [
    {
     "name": "stdout",
     "output_type": "stream",
     "text": [
      "(2, 2)\n",
      "<dtype: 'int32'>\n"
     ]
    }
   ],
   "execution_count": 9
  },
  {
   "metadata": {
    "ExecuteTime": {
     "end_time": "2025-01-14T17:49:39.879326Z",
     "start_time": "2025-01-14T17:49:39.860768Z"
    }
   },
   "cell_type": "code",
   "source": [
    "# using tensorflow functions\n",
    "zeros = tf.zeros([3, 3])  # 3x3 matrix of zeros\n",
    "ones = tf.ones([3, 3])    # 3x3 matrix of ones\n",
    "random = tf.random.normal([3, 3], mean=2, stddev=1)  # Random normal distribution\n",
    "print(random)\n"
   ],
   "id": "720f2f31ba4df6",
   "outputs": [
    {
     "name": "stdout",
     "output_type": "stream",
     "text": [
      "tf.Tensor(\n",
      "[[2.2494526 1.5793092 2.0748093]\n",
      " [1.1085639 1.1654286 3.2950633]\n",
      " [1.7723502 1.5954139 1.2982993]], shape=(3, 3), dtype=float32)\n"
     ]
    }
   ],
   "execution_count": 10
  },
  {
   "metadata": {
    "ExecuteTime": {
     "end_time": "2025-01-14T17:49:39.919021Z",
     "start_time": "2025-01-14T17:49:39.909890Z"
    }
   },
   "cell_type": "code",
   "source": [
    "# converting numpy to tensorflow\n",
    "import numpy as np\n",
    "array = np.array([1, 2, 3])\n",
    "tensor = tf.convert_to_tensor(array)\n",
    "print(tensor)\n"
   ],
   "id": "b2970e84f385242b",
   "outputs": [
    {
     "name": "stdout",
     "output_type": "stream",
     "text": [
      "tf.Tensor([1 2 3], shape=(3,), dtype=int64)\n"
     ]
    }
   ],
   "execution_count": 11
  },
  {
   "metadata": {
    "ExecuteTime": {
     "end_time": "2025-01-14T17:49:39.975584Z",
     "start_time": "2025-01-14T17:49:39.948568Z"
    }
   },
   "cell_type": "code",
   "source": [
    "# tensorflow variables\n",
    "var = tf.Variable([1.0, 2.0, 3.0])\n",
    "print(var)\n",
    "var.assign([4.0, 5.0, 6.0])  # Assign new values\n",
    "print(var)\n"
   ],
   "id": "a1774227a6da84d4",
   "outputs": [
    {
     "name": "stdout",
     "output_type": "stream",
     "text": [
      "<tf.Variable 'Variable:0' shape=(3,) dtype=float32, numpy=array([1., 2., 3.], dtype=float32)>\n",
      "<tf.Variable 'Variable:0' shape=(3,) dtype=float32, numpy=array([4., 5., 6.], dtype=float32)>\n"
     ]
    }
   ],
   "execution_count": 12
  },
  {
   "metadata": {
    "ExecuteTime": {
     "end_time": "2025-01-14T17:49:40.696206Z",
     "start_time": "2025-01-14T17:49:40.025585Z"
    }
   },
   "cell_type": "code",
   "source": [
    "mnist = keras.datasets.mnist\n",
    "(x_train, y_train), (x_test, y_test) = mnist.load_data()\n",
    "x_train, x_test = x_train / 255.0, x_test / 255.0\n"
   ],
   "id": "990e511f745c296a",
   "outputs": [],
   "execution_count": 13
  },
  {
   "metadata": {
    "ExecuteTime": {
     "end_time": "2025-01-14T17:49:40.756148Z",
     "start_time": "2025-01-14T17:49:40.712068Z"
    }
   },
   "cell_type": "code",
   "source": [
    "# building a simple Sequential model\n",
    "# Sequential is useful for stacking layers where each layer has one input tensor and one output tensor. Layers are functions with a known mathematical structure that can be reused and have trainable variables. Most TensorFlow models are composed of layers. This model uses the Flatten, Dense, and Dropout layers.\n",
    "# For each example, the model returns a vector of logits or log-odds scores, one for each class.\n",
    "\n",
    "model = tf.keras.models.Sequential([\n",
    "    tf.keras.layers.Flatten(input_shape=(28, 28)),\n",
    "    tf.keras.layers.Dense(128, activation='relu'),\n",
    "    tf.keras.layers.Dropout(0.2),\n",
    "    tf.keras.layers.Dense(10)\n",
    "])"
   ],
   "id": "2954333ad6a9eb5d",
   "outputs": [],
   "execution_count": 14
  },
  {
   "metadata": {
    "ExecuteTime": {
     "end_time": "2025-01-14T17:49:40.803354Z",
     "start_time": "2025-01-14T17:49:40.771607Z"
    }
   },
   "cell_type": "code",
   "source": [
    "\n",
    "predictions = model(x_train[:1]).numpy()\n",
    "predictions"
   ],
   "id": "95200ccad48a5d6e",
   "outputs": [
    {
     "data": {
      "text/plain": [
       "array([[ 0.33905154, -0.72344476,  0.45500445,  0.29599577, -0.18545972,\n",
       "        -0.23216842,  0.11630823, -0.03827632,  0.7162858 , -0.05921811]],\n",
       "      dtype=float32)"
      ]
     },
     "execution_count": 15,
     "metadata": {},
     "output_type": "execute_result"
    }
   ],
   "execution_count": 15
  },
  {
   "metadata": {
    "ExecuteTime": {
     "end_time": "2025-01-14T17:49:40.861845Z",
     "start_time": "2025-01-14T17:49:40.851357Z"
    }
   },
   "cell_type": "code",
   "source": [
    "# The tf.nn.softmax function converts these logits to probabilities for each class:\n",
    "tf.nn.softmax(predictions).numpy()"
   ],
   "id": "a339541e51290051",
   "outputs": [
    {
     "data": {
      "text/plain": [
       "array([[0.1219689 , 0.04215147, 0.13696411, 0.11682887, 0.07218663,\n",
       "        0.06889241, 0.09761418, 0.083633  , 0.17786063, 0.08189978]],\n",
       "      dtype=float32)"
      ]
     },
     "execution_count": 16,
     "metadata": {},
     "output_type": "execute_result"
    }
   ],
   "execution_count": 16
  },
  {
   "metadata": {},
   "cell_type": "code",
   "outputs": [],
   "execution_count": null,
   "source": [
    "#\n",
    "loss_fn = tf.keras.losses.SparseCategoricalCrossentropy(from_logits=True)"
   ],
   "id": "ecc9a3c8ed4ac12e"
  }
 ],
 "metadata": {
  "kernelspec": {
   "display_name": "Python 3",
   "language": "python",
   "name": "python3"
  },
  "language_info": {
   "codemirror_mode": {
    "name": "ipython",
    "version": 2
   },
   "file_extension": ".py",
   "mimetype": "text/x-python",
   "name": "python",
   "nbconvert_exporter": "python",
   "pygments_lexer": "ipython2",
   "version": "2.7.6"
  }
 },
 "nbformat": 4,
 "nbformat_minor": 5
}
